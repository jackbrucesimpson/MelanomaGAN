{
 "metadata": {
  "language_info": {
   "codemirror_mode": {
    "name": "ipython",
    "version": 3
   },
   "file_extension": ".py",
   "mimetype": "text/x-python",
   "name": "python",
   "nbconvert_exporter": "python",
   "pygments_lexer": "ipython3",
   "version": "3.7.9-final"
  },
  "orig_nbformat": 2,
  "kernelspec": {
   "name": "Python 3.7.9 64-bit ('conda-pytorch': conda)",
   "display_name": "Python 3.7.9 64-bit ('conda-pytorch': conda)",
   "metadata": {
    "interpreter": {
     "hash": "49528df37f1ebd2c911993a169da0eafd1bbbc3913a4a14871dd1ed1229cbe15"
    }
   }
  }
 },
 "nbformat": 4,
 "nbformat_minor": 2,
 "cells": [
  {
   "source": [
    "# Image Pipeline\n",
    "- Write and test custom DataSet classes that are going to be used for developing the melanoma classification model\n",
    "- Investigate the data and select a few appropriate transformations from the torchvision.transform package to be used for the data augmentation task.\n",
    "- Transformations should be set when instantiating a DataSet object; for example, so that one can include different options during training or at test time.\n",
    "\n",
    "## Tasks\n",
    "- Write a custom class for the unlabeled images that inherits torch.utils.data.Dataset and overrides the following methods:\n",
    "    - __init__(self, dir_path, transform=None): the constructor should take in a path to the directory containing images and an optional transform argument for image pre-processing and augmentation.\n",
    "    - __len__(self): should return the number of images in the dataset.\n",
    "    - __getitem__(self, i): should return the ith image in the set.\n",
    "- Write a custom class for the labeled images that inheritstorch.utils.data.Dataset and overrides the following methods:\n",
    "    - __init__(self, dir_path, transform=None): the constructor should take in a path to the directory containing images and an optional transform argument for image pre-processing and augmentation\n",
    "    - __len__(self): should return the number of images in the dataset\n",
    "    - __getitem__(self, i): should return the ith image in the set as well as its label\n",
    "- Instantiate both classes and create two torch.utils.data.DataLoader objects (for the unlabeled and labeled datasets respectively). Use them to print out one batch of data each.\n",
    "- After looking at the images, what transformations do you propose to use for the pre-processing and the data augmentation?\n",
    "\n",
    "## Deliverable\n",
    "\n",
    "The deliverable is a Jupyter notebook containing two custom torch.utils.data.Dataset classes, one each, for, the unlabeled and the labeled images, and two torch.utils.data.DataLoader objects with test code (for example, displaying a few of the images and printing out their labels)."
   ],
   "cell_type": "markdown",
   "metadata": {}
  },
  {
   "cell_type": "code",
   "execution_count": null,
   "metadata": {},
   "outputs": [],
   "source": []
  }
 ]
}